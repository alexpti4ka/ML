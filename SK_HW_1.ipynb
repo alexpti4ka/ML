{
  "nbformat": 4,
  "nbformat_minor": 0,
  "metadata": {
    "colab": {
      "provenance": []
    },
    "kernelspec": {
      "name": "python3",
      "display_name": "Python 3"
    },
    "language_info": {
      "name": "python"
    }
  },
  "cells": [
    {
      "cell_type": "code",
      "source": [
        "import zipfile\n",
        "import pandas as pd\n",
        "import matplotlib.pyplot as plt\n",
        "import seaborn as sns\n",
        "import os\n",
        "import cv2\n",
        "import numpy as np\n",
        "from sklearn.model_selection import train_test_split\n",
        "from sklearn.preprocessing import LabelEncoder\n",
        "from sklearn.metrics import classification_report, confusion_matrix\n",
        "import tensorflow as tf\n",
        "from tensorflow.keras import layers, models\n",
        "from tensorflow.keras.preprocessing.image import ImageDataGenerator\n",
        "from tensorflow.keras.utils import to_categorical\n",
        "from tensorflow.keras.models import Sequential\n",
        "from tensorflow.keras.layers import Conv2D, MaxPooling2D, Flatten, Dense, Dropout"
      ],
      "metadata": {
        "id": "u6LW_I1yvaTl"
      },
      "execution_count": 1,
      "outputs": []
    },
    {
      "cell_type": "markdown",
      "source": [
        "# 1. Анализ и очистка датасета"
      ],
      "metadata": {
        "id": "qadnIgZUvkJB"
      }
    },
    {
      "cell_type": "code",
      "source": [
        "!kaggle datasets download -d alexattia/the-simpsons-characters-dataset"
      ],
      "metadata": {
        "colab": {
          "base_uri": "https://localhost:8080/"
        },
        "id": "wck4wcfpvezh",
        "outputId": "a4d3b076-27bb-4c5e-f92c-24eec15974fc"
      },
      "execution_count": 2,
      "outputs": [
        {
          "output_type": "stream",
          "name": "stdout",
          "text": [
            "Dataset URL: https://www.kaggle.com/datasets/alexattia/the-simpsons-characters-dataset\n",
            "License(s): CC-BY-NC-SA-4.0\n",
            "Downloading the-simpsons-characters-dataset.zip to /content\n",
            "100% 1.08G/1.08G [00:16<00:00, 95.6MB/s]\n",
            "100% 1.08G/1.08G [00:16<00:00, 68.9MB/s]\n"
          ]
        }
      ]
    },
    {
      "cell_type": "code",
      "source": [
        "with zipfile.ZipFile('the-simpsons-characters-dataset.zip', 'r') as zip_ref:\n",
        "    zip_ref.extractall()"
      ],
      "metadata": {
        "id": "rHOdsrZavz7G"
      },
      "execution_count": 3,
      "outputs": []
    },
    {
      "cell_type": "code",
      "source": [
        "#Вместо того, чтобы доверять файлу number_pic_char.csv — изучим фактическое содержимое папок\n",
        "dataset_folder = \"simpsons_dataset\"  # Путь к основной папке с данными\n",
        "kaggle_test_folder = \"kaggle_simpson_testset/kaggle_simpson_testset\"  # Путь к папке с тестовым набором данных\n",
        "\n",
        "# Словарь для хранения количества изображений в каждой папке персонажей\n",
        "dataset_counts = {}\n",
        "kaggle_test_counts = {}"
      ],
      "metadata": {
        "id": "6MXe7ECqriBI"
      },
      "execution_count": 4,
      "outputs": []
    },
    {
      "cell_type": "code",
      "source": [
        "# Подсчет количества изображений в каждой папке персонажей в 'simpsons_dataset'\n",
        "for character in os.listdir(dataset_folder):\n",
        "    character_folder_path = os.path.join(dataset_folder, character)\n",
        "    if os.path.isdir(character_folder_path):\n",
        "        image_count = len([f for f in os.listdir(character_folder_path) if os.path.isfile(os.path.join(character_folder_path, f))])\n",
        "        dataset_counts[character] = image_count"
      ],
      "metadata": {
        "id": "C3RAzbxeuo-9"
      },
      "execution_count": 5,
      "outputs": []
    },
    {
      "cell_type": "code",
      "source": [
        "# Подсчет количества изображений в 'kaggle_simpsons_testset' с учетом шаблона именования файлов\n",
        "for file_name in os.listdir(kaggle_test_folder):\n",
        "    if os.path.isfile(os.path.join(kaggle_test_folder, file_name)):\n",
        "        # Извлечение имени персонажа из имени файла, удаляя часть после последнего подчеркивания и номера\n",
        "        character = '_'.join(file_name.split('_')[:-1])\n",
        "        if character in kaggle_test_counts:\n",
        "            kaggle_test_counts[character] += 1\n",
        "        else:\n",
        "            kaggle_test_counts[character] = 1"
      ],
      "metadata": {
        "id": "DKgOdcoPun8D"
      },
      "execution_count": 6,
      "outputs": []
    },
    {
      "cell_type": "code",
      "source": [
        "# Создание DataFrame для удобного отображения результатов\n",
        "dataset_df = pd.DataFrame(list(dataset_counts.items()), columns=['Класс', 's_d'])\n",
        "kaggle_test_df = pd.DataFrame(list(kaggle_test_counts.items()), columns=['Класс', 'k_s_t'])"
      ],
      "metadata": {
        "id": "2wWamEbPus8E"
      },
      "execution_count": 7,
      "outputs": []
    },
    {
      "cell_type": "code",
      "source": [
        "# Объединяем информацию из двух папок, чтобы сравнить\n",
        "combined_df = pd.merge(dataset_df, kaggle_test_df, on='Класс', how='outer').fillna(0)\n",
        "combined_df.rename(columns={'k_s_t': 'k_s_t'}, inplace=True)\n",
        "combined_df['s_d'] = combined_df['s_d'].astype(int)\n",
        "combined_df['k_s_t'] = combined_df['k_s_t'].astype(int)\n",
        "\n",
        "# Выводим информацию о количестве изображений в каждой папке\n",
        "print(combined_df[['Класс', 's_d', 'k_s_t']].sort_values(by=['s_d', 'k_s_t'], ascending=False))"
      ],
      "metadata": {
        "colab": {
          "base_uri": "https://localhost:8080/"
        },
        "id": "y9KtOpYJr0Ut",
        "outputId": "bbfca335-0c38-4736-83ef-d100529f79b5"
      },
      "execution_count": 8,
      "outputs": [
        {
          "output_type": "stream",
          "name": "stdout",
          "text": [
            "                       Класс   s_d  k_s_t\n",
            "15             homer_simpson  2246     50\n",
            "28              ned_flanders  1454     49\n",
            "27               moe_szyslak  1452     50\n",
            "20              lisa_simpson  1354     50\n",
            "4               bart_simpson  1342     50\n",
            "22             marge_simpson  1291     50\n",
            "17          krusty_the_clown  1206     50\n",
            "32         principal_skinner  1194     50\n",
            "6   charles_montgomery_burns  1193     48\n",
            "25       milhouse_van_houten  1079     49\n",
            "7               chief_wiggum   986     50\n",
            "0     abraham_grampa_simpson   913     48\n",
            "37              sideshow_bob   877     47\n",
            "2     apu_nahasapeemapetilon   623     50\n",
            "16             kent_brockman   498     50\n",
            "9             comic_book_guy   469     49\n",
            "11            edna_krabappel   457     50\n",
            "29              nelson_muntz   358     50\n",
            "18             lenny_leonard   310     50\n",
            "24              mayor_quimby   246     50\n",
            "42           waylon_smithers   181      0\n",
            "21            maggie_simpson   128      0\n",
            "14      groundskeeper_willie   121      0\n",
            "3              barney_gumble   106      0\n",
            "36             selma_bouvier   103      0\n",
            "5               carl_carlson    98      0\n",
            "35              ralph_wiggum    89      0\n",
            "31             patty_bouvier    72      0\n",
            "23             martin_prince    71      0\n",
            "33      professor_john_frink    65      0\n",
            "40            snake_jailbird    55      0\n",
            "8            cletus_spuckler    47      0\n",
            "34        rainier_wolfcastle    45      0\n",
            "1              agnes_skinner    42      0\n",
            "38              sideshow_mel    40      0\n",
            "30                 otto_mann    32      0\n",
            "12                  fat_tony    27      0\n",
            "13                       gil    27      0\n",
            "26               miss_hoover    17      0\n",
            "10                 disco_stu     8      0\n",
            "41              troy_mcclure     8      0\n",
            "19               lionel_hutz     3      0\n",
            "39          simpsons_dataset     0      0\n"
          ]
        }
      ]
    },
    {
      "cell_type": "markdown",
      "source": [
        "Видим, что среди персонажей затесалась лишняя папка simpsons_dataset. Важно сопоставить ее содержимое с основным массивом — вдруг там новые данные.\n",
        "\n",
        "Также можем сравнить содержимое основной и тестовой папок —  видимо название соотвествует содержимому и в тесте лежат тестовые данные. Поскольку мы будем выделять тестовую часть выборки позже — считаю данные из теста можно объединить с основными."
      ],
      "metadata": {
        "id": "etf6LFt0w90A"
      }
    },
    {
      "cell_type": "code",
      "source": [
        "# Проверка вложенной папки 'simpsons_dataset/simpsons_dataset'\n",
        "nested_dataset_folder = os.path.join(dataset_folder, 'simpsons_dataset')\n",
        "nested_dataset_counts = {}\n",
        "\n",
        "if os.path.exists(nested_dataset_folder) and os.path.isdir(nested_dataset_folder):\n",
        "    for character in os.listdir(nested_dataset_folder):\n",
        "        character_folder_path = os.path.join(nested_dataset_folder, character)\n",
        "        if os.path.isdir(character_folder_path):\n",
        "            image_count = len([f for f in os.listdir(character_folder_path) if os.path.isfile(os.path.join(character_folder_path, f))])\n",
        "            nested_dataset_counts[character] = image_count"
      ],
      "metadata": {
        "id": "VbnXf2yywjIe"
      },
      "execution_count": 9,
      "outputs": []
    },
    {
      "cell_type": "code",
      "source": [
        "# Сравнение изображений из основной и вложенной папок\n",
        "from hashlib import md5\n",
        "\n",
        "def get_file_checksum(file_path):\n",
        "    with open(file_path, 'rb') as f:\n",
        "        return md5(f.read()).hexdigest()\n",
        "\n",
        "matching_files = []\n",
        "different_files = []"
      ],
      "metadata": {
        "id": "F7QBJM4MxeTN"
      },
      "execution_count": 10,
      "outputs": []
    },
    {
      "cell_type": "code",
      "source": [
        "for character in dataset_counts.keys():\n",
        "    original_folder = os.path.join(dataset_folder, character)\n",
        "    nested_folder = os.path.join(nested_dataset_folder, character)\n",
        "\n",
        "    if os.path.exists(nested_folder):\n",
        "        original_files = [f for f in os.listdir(original_folder) if os.path.isfile(os.path.join(original_folder, f))]\n",
        "        nested_files = [f for f in os.listdir(nested_folder) if os.path.isfile(os.path.join(nested_folder, f))]\n",
        "\n",
        "        for file_name in original_files:\n",
        "            original_file_path = os.path.join(original_folder, file_name)\n",
        "            nested_file_path = os.path.join(nested_folder, file_name)\n",
        "\n",
        "            if os.path.exists(nested_file_path):\n",
        "                original_checksum = get_file_checksum(original_file_path)\n",
        "                nested_checksum = get_file_checksum(nested_file_path)\n",
        "\n",
        "                if original_checksum == nested_checksum:\n",
        "                    matching_files.append((original_file_path, nested_file_path))\n",
        "                else:\n",
        "                    different_files.append((original_file_path, nested_file_path))\n",
        "\n",
        "print(f\"Совпадающие файлы: {len(matching_files)}\")\n",
        "print(f\"Различные файлы: {len(different_files)}\")\n"
      ],
      "metadata": {
        "colab": {
          "base_uri": "https://localhost:8080/"
        },
        "id": "AmqYKgrUxhnk",
        "outputId": "b1fa74d0-960d-472c-d1c6-0b657528fdbd"
      },
      "execution_count": 11,
      "outputs": [
        {
          "output_type": "stream",
          "name": "stdout",
          "text": [
            "Совпадающие файлы: 20933\n",
            "Различные файлы: 0\n"
          ]
        }
      ]
    },
    {
      "cell_type": "markdown",
      "source": [
        "По результатам проверки очевидно, что это дубликат. Значит его можно спокойно удалить."
      ],
      "metadata": {
        "id": "QqKVrlM9xs0B"
      }
    },
    {
      "cell_type": "code",
      "source": [
        "# Перемещение изображений из 'kaggle_simpsons_testset' в соответствующие папки в 'simpsons_dataset'\n",
        "missing_characters = []\n",
        "\n",
        "for file_name in os.listdir(kaggle_test_folder):\n",
        "    if os.path.isfile(os.path.join(kaggle_test_folder, file_name)):\n",
        "        # Извлечение имени персонажа из имени файла, удаляя часть после последнего подчеркивания и номера\n",
        "        character = '_'.join(file_name.split('_')[:-1])\n",
        "        character_folder_path = os.path.join(dataset_folder, character)\n",
        "\n",
        "        # Проверяем, существует ли папка для персонажа в основном датасете\n",
        "        if os.path.exists(character_folder_path):\n",
        "            # Перемещаем файл в соответствующую папку\n",
        "            original_file_path = os.path.join(kaggle_test_folder, file_name)\n",
        "            new_file_path = os.path.join(character_folder_path, file_name)\n",
        "            os.rename(original_file_path, new_file_path)\n",
        "        else:\n",
        "            # Добавляем персонажа в список отсутствующих\n",
        "            missing_characters.append(character)\n",
        "\n",
        "# Вывод списка персонажей, для которых не нашлось соответствующих папок\n",
        "print(\"Персонажи, для которых не нашлось соответствующих папок в основном датасете:\")\n",
        "print(set(missing_characters))"
      ],
      "metadata": {
        "colab": {
          "base_uri": "https://localhost:8080/"
        },
        "id": "zJ0aPPzpx0OV",
        "outputId": "0b044dad-49ab-4dd5-f9c2-793362a6f970"
      },
      "execution_count": 12,
      "outputs": [
        {
          "output_type": "stream",
          "name": "stdout",
          "text": [
            "Персонажи, для которых не нашлось соответствующих папок в основном датасете:\n",
            "set()\n"
          ]
        }
      ]
    },
    {
      "cell_type": "code",
      "source": [
        "# Подсчет количества изображений в каждой папке после перемещения данных из 'kaggle_simpsons_testset'\n",
        "dataset_counts_after_merge = {}\n",
        "for character in os.listdir(dataset_folder):\n",
        "    character_folder_path = os.path.join(dataset_folder, character)\n",
        "    if os.path.isdir(character_folder_path):\n",
        "        image_count = len([f for f in os.listdir(character_folder_path) if os.path.isfile(os.path.join(character_folder_path, f))])\n",
        "        dataset_counts_after_merge[character] = image_count\n",
        "\n",
        "# Создание DataFrame для удобного отображения результатов после объединения\n",
        "dataset_df_after_merge = pd.DataFrame(list(dataset_counts_after_merge.items()), columns=['Класс', 's_d'])\n",
        "\n",
        "# Выводим информацию о количестве изображений в каждой папке после объединения\n",
        "print(\"Количество изображений в каждой папке после объединения с тестовой выборкой:\")\n",
        "print(dataset_df_after_merge.sort_values(by=['s_d'], ascending=False))"
      ],
      "metadata": {
        "colab": {
          "base_uri": "https://localhost:8080/"
        },
        "id": "CoEe4VQ-z4Dr",
        "outputId": "7e8104ce-85af-4d7a-a012-2abe012e44cf"
      },
      "execution_count": 13,
      "outputs": [
        {
          "output_type": "stream",
          "name": "stdout",
          "text": [
            "Количество изображений в каждой папке после объединения с тестовой выборкой:\n",
            "                       Класс   s_d\n",
            "35             homer_simpson  2296\n",
            "26              ned_flanders  1503\n",
            "30               moe_szyslak  1502\n",
            "1               lisa_simpson  1404\n",
            "20              bart_simpson  1392\n",
            "4              marge_simpson  1341\n",
            "40          krusty_the_clown  1256\n",
            "17         principal_skinner  1244\n",
            "27  charles_montgomery_burns  1241\n",
            "41       milhouse_van_houten  1128\n",
            "0               chief_wiggum  1036\n",
            "29    abraham_grampa_simpson   961\n",
            "37              sideshow_bob   924\n",
            "19    apu_nahasapeemapetilon   673\n",
            "21             kent_brockman   548\n",
            "2             comic_book_guy   518\n",
            "38            edna_krabappel   507\n",
            "39              nelson_muntz   408\n",
            "16             lenny_leonard   360\n",
            "33              mayor_quimby   296\n",
            "36           waylon_smithers   181\n",
            "11            maggie_simpson   128\n",
            "9       groundskeeper_willie   121\n",
            "24             barney_gumble   106\n",
            "3              selma_bouvier   103\n",
            "12              carl_carlson    98\n",
            "8               ralph_wiggum    89\n",
            "10             patty_bouvier    72\n",
            "15             martin_prince    71\n",
            "28      professor_john_frink    65\n",
            "14            snake_jailbird    55\n",
            "18           cletus_spuckler    47\n",
            "7         rainier_wolfcastle    45\n",
            "32             agnes_skinner    42\n",
            "5               sideshow_mel    40\n",
            "22                 otto_mann    32\n",
            "13                       gil    27\n",
            "42                  fat_tony    27\n",
            "6                miss_hoover    17\n",
            "31                 disco_stu     8\n",
            "23              troy_mcclure     8\n",
            "25               lionel_hutz     3\n",
            "34          simpsons_dataset     0\n"
          ]
        }
      ]
    },
    {
      "cell_type": "code",
      "source": [
        "# Удаление вложенной папки после проверки\n",
        "import shutil\n",
        "shutil.rmtree('/content/simpsons_dataset/simpsons_dataset')\n",
        "print(\"Папка '/content/simpsons_dataset/simpsons_dataset' удалена.\")"
      ],
      "metadata": {
        "colab": {
          "base_uri": "https://localhost:8080/"
        },
        "id": "9tIsuNH8v7P1",
        "outputId": "7d44a129-b8d8-42dc-f675-65eb94c07034"
      },
      "execution_count": 14,
      "outputs": [
        {
          "output_type": "stream",
          "name": "stdout",
          "text": [
            "Папка '/content/simpsons_dataset/simpsons_dataset' удалена.\n"
          ]
        }
      ]
    },
    {
      "cell_type": "code",
      "source": [
        "df = pd.DataFrame(list(dataset_counts_after_merge.items()), columns=['name', 'count'])"
      ],
      "metadata": {
        "id": "v4HCDYBn1_0y"
      },
      "execution_count": 15,
      "outputs": []
    },
    {
      "cell_type": "code",
      "source": [
        "# Настройка графика\n",
        "plt.figure(figsize=(12, 8))\n",
        "df_sorted = df.sort_values(by=['count'], ascending=False)\n",
        "plt.bar(df_sorted['name'], df_sorted['count'])\n",
        "plt.xlabel('Персонажи')\n",
        "plt.ylabel('Количество изображений')\n",
        "plt.title('Распределение изображений по персонажам после объединения')\n",
        "plt.xticks(rotation=90)\n",
        "plt.tight_layout()\n",
        "plt.show()"
      ],
      "metadata": {
        "colab": {
          "base_uri": "https://localhost:8080/",
          "height": 640
        },
        "id": "49G6bahQv_8M",
        "outputId": "1906660d-e701-4ec3-9ed5-7df1f5520015"
      },
      "execution_count": 16,
      "outputs": [
        {
          "output_type": "display_data",
          "data": {
            "text/plain": [
              "<Figure size 1200x800 with 1 Axes>"
            ],
            "image/png": "[encoded data removed]"
          },
          "metadata": {}
        }
      ]
    },
    {
      "cell_type": "code",
      "source": [
        "#Видимо, что для некоторых персонажей информации очень мало. Посмотрим, насколько мало\n",
        "min_values = df.nsmallest(20, 'count')\n",
        "print(min_values)"
      ],
      "metadata": {
        "colab": {
          "base_uri": "https://localhost:8080/"
        },
        "id": "uv7P4FTCwLSh",
        "outputId": "2d6a5d55-740e-43c1-d6e6-69b1187d5137"
      },
      "execution_count": 17,
      "outputs": [
        {
          "output_type": "stream",
          "name": "stdout",
          "text": [
            "                    name  count\n",
            "34      simpsons_dataset      0\n",
            "25           lionel_hutz      3\n",
            "23          troy_mcclure      8\n",
            "31             disco_stu      8\n",
            "6            miss_hoover     17\n",
            "13                   gil     27\n",
            "42              fat_tony     27\n",
            "22             otto_mann     32\n",
            "5           sideshow_mel     40\n",
            "32         agnes_skinner     42\n",
            "7     rainier_wolfcastle     45\n",
            "18       cletus_spuckler     47\n",
            "14        snake_jailbird     55\n",
            "28  professor_john_frink     65\n",
            "15         martin_prince     71\n",
            "10         patty_bouvier     72\n",
            "8           ralph_wiggum     89\n",
            "12          carl_carlson     98\n",
            "3          selma_bouvier    103\n",
            "24         barney_gumble    106\n"
          ]
        }
      ]
    },
    {
      "cell_type": "markdown",
      "source": [
        "Google Cloud рекомендует для CNN классификатора минимум 50–100 изображений на класс.\n",
        "50 - если изображения внутри класса похожи. Важно не потерять разнообразие классов, поэтому будем проводить аугментацию для всех персонажей."
      ],
      "metadata": {
        "id": "ipWfUcjp3EjM"
      }
    },
    {
      "cell_type": "code",
      "source": [
        "# Среднее кол-во изображений в классе имеет смысл считать уже на подвыборке\n",
        "mean_count = df['count'].mean()\n",
        "print(mean_count)"
      ],
      "metadata": {
        "colab": {
          "base_uri": "https://localhost:8080/"
        },
        "id": "hqRcZtr0_Uob",
        "outputId": "aa62312c-53eb-4b77-bfab-5a8ace4ee453"
      },
      "execution_count": 18,
      "outputs": [
        {
          "output_type": "stream",
          "name": "stdout",
          "text": [
            "509.83720930232556\n"
          ]
        }
      ]
    },
    {
      "cell_type": "code",
      "source": [
        "# Из распределения мы знаем, что у нас значительный дисбаланс классов\n",
        "# Воспользуемся правилом х delta чтобы определить слишком малые и большие классы\n",
        "\n",
        "delta = 5 #во сколько раз отличие от среднего\n",
        "\n",
        "# Разбиваем классы на группы\n",
        "# Слишком много данных (более чем в delta раз превышает среднее)\n",
        "too_many_data = df[df['count'] > delta * mean_count]['name']\n",
        "\n",
        "# Оптимальное количество данных (близко к среднему, в пределах delta)\n",
        "optimal_data = df[(df['count'] <= delta * mean_count) & (df['count'] >= mean_count / delta)]['name']\n",
        "\n",
        "# Слишком мало данных (более чем в delta раз меньше среднего)\n",
        "too_few_data = df[df['count'] < mean_count / delta]['name']\n",
        "\n",
        "\n",
        "# Преобразуем имена в нужный формат (чтобы совпадало с тем, что в папках)\n",
        "formatted_too_many_data = too_many_data.str.lower().str.replace(' ', '_')\n",
        "formatted_optimal_data = optimal_data.str.lower().str.replace(' ', '_')\n",
        "formatted_too_few_data = too_few_data.str.lower().str.replace(' ', '_')\n",
        "\n",
        "# Результаты\n",
        "print(\"Классы с слишком большим количеством данных:\", formatted_too_many_data.tolist())\n",
        "print(\"Классы с оптимальным количеством данных:\", formatted_optimal_data.tolist())\n",
        "print(\"Классы с слишком малым количеством данных:\", formatted_too_few_data.tolist())"
      ],
      "metadata": {
        "colab": {
          "base_uri": "https://localhost:8080/"
        },
        "id": "w9IyVSmBAkJD",
        "outputId": "e2b0f36e-e404-487d-a537-7c279981148f"
      },
      "execution_count": 19,
      "outputs": [
        {
          "output_type": "stream",
          "name": "stdout",
          "text": [
            "Классы с слишком большим количеством данных: []\n",
            "Классы с оптимальным количеством данных: ['chief_wiggum', 'lisa_simpson', 'comic_book_guy', 'selma_bouvier', 'marge_simpson', 'groundskeeper_willie', 'maggie_simpson', 'lenny_leonard', 'principal_skinner', 'apu_nahasapeemapetilon', 'bart_simpson', 'kent_brockman', 'barney_gumble', 'ned_flanders', 'charles_montgomery_burns', 'abraham_grampa_simpson', 'moe_szyslak', 'mayor_quimby', 'homer_simpson', 'waylon_smithers', 'sideshow_bob', 'edna_krabappel', 'nelson_muntz', 'krusty_the_clown', 'milhouse_van_houten']\n",
            "Классы с слишком малым количеством данных: ['sideshow_mel', 'miss_hoover', 'rainier_wolfcastle', 'ralph_wiggum', 'patty_bouvier', 'carl_carlson', 'gil', 'snake_jailbird', 'martin_prince', 'cletus_spuckler', 'otto_mann', 'troy_mcclure', 'lionel_hutz', 'professor_john_frink', 'disco_stu', 'agnes_skinner', 'simpsons_dataset', 'fat_tony']\n"
          ]
        }
      ]
    },
    {
      "cell_type": "code",
      "source": [
        "dataset_folder = 'simpsons_dataset'"
      ],
      "metadata": {
        "id": "G-6EUIf8wn2D"
      },
      "execution_count": 20,
      "outputs": []
    },
    {
      "cell_type": "code",
      "source": [
        "# Разделение на images и labels\n",
        "images = []\n",
        "labels = []\n",
        "\n",
        "# Перебираем папки и собираем изображения и метки\n",
        "for character in pd.concat([formatted_optimal_data, formatted_too_few_data]):\n",
        "    character_folder_path = os.path.join(dataset_folder, character)\n",
        "    if os.path.exists(character_folder_path):\n",
        "        for file_name in os.listdir(character_folder_path):\n",
        "            file_path = os.path.join(character_folder_path, file_name)\n",
        "            if os.path.isfile(file_path):\n",
        "                images.append(file_path)\n",
        "                labels.append(character)\n",
        "\n",
        "# Проверяем результаты разделения на images и labels\n",
        "print(f'Количество изображений: {len(images)}')\n",
        "print(f'Количество меток: {len(labels)}')\n",
        "print(f'Пример изображения: {images[0] if images else \"Нет изображений\"}')\n",
        "print(f'Пример метки: {labels[0] if labels else \"Нет меток\"}')"
      ],
      "metadata": {
        "id": "XFQxVbmww7Uc",
        "colab": {
          "base_uri": "https://localhost:8080/"
        },
        "outputId": "a6effd1f-f1a5-4ede-e5b3-195d25f5db8b"
      },
      "execution_count": 70,
      "outputs": [
        {
          "output_type": "stream",
          "name": "stdout",
          "text": [
            "Количество изображений: 21923\n",
            "Количество меток: 21923\n",
            "Пример изображения: simpsons_dataset/chief_wiggum/pic_0182.jpg\n",
            "Пример метки: chief_wiggum\n"
          ]
        }
      ]
    },
    {
      "cell_type": "markdown",
      "source": [
        "# 3. Аугментация данных\n",
        "Генерируем доп изображения в малые классы, чтобы скорректировать дисбаланс классов.\n",
        "\n",
        "Что подойдет:\n",
        "- Небольшое изменение масштаба, сдивиги, поворот\n",
        "\n",
        "\n",
        "Что не подойдет:\n",
        "- Ротация на 90 градусов и более\n",
        "- Сильная обрезка изображений, фрагментирование портретов\n",
        "- Изменение цвета для мультка со узнаваемой цветовой схемой это может быть фатально\n",
        "- Сильный шум или размытие не характерны для скриншотов из мультика — такие методы скорее подойдут для фото из реальной жизни\n",
        "\n",
        "Аугментацию можно проводить как отдельно, так и на лету (онлайн), прямо во время обучения модели, с использованием тех же библиотек tensorflow или аналогов.\n",
        "\n",
        "Оставлю пример кода как для отедльной, так и для онлайновой аугментации."
      ],
      "metadata": {
        "id": "G8KgUVMDzjAd"
      }
    },
    {
      "cell_type": "code",
      "source": [
        "# Настройка параметров генерации изображений\n",
        "augmented_images = []\n",
        "augmented_labels = []\n",
        "\n",
        "datagen = ImageDataGenerator(\n",
        "    rescale=1./255, #чтобы привести значение пикселя к от 0 до 1 (так лучше для модели)\n",
        "    rotation_range=20,\n",
        "    width_shift_range=0.2,\n",
        "    height_shift_range=0.2,\n",
        "    shear_range=0.2,\n",
        "    zoom_range=0.2,\n",
        "    horizontal_flip=True,\n",
        "    fill_mode='nearest'\n",
        ")\n",
        "\n",
        "augmentation_counts = {}  # Для отслеживания количества сгенерированных изображений для каждого класса\n",
        "augmented_image_paths = []  # Для хранения путей к сгенерированным изображениям\n",
        "\n",
        "augmented_dataset_folder = \"augmented_dataset\"  # Папка для сохранения сгенерированных изображений\n",
        "os.makedirs(augmented_dataset_folder, exist_ok=True)"
      ],
      "metadata": {
        "id": "nfFnanjDz9Rg"
      },
      "execution_count": 23,
      "outputs": []
    },
    {
      "cell_type": "code",
      "source": [
        "# Аугментация для классов с недостаточным количеством данных\n",
        "for character in formatted_too_few_data:\n",
        "    character_folder_path = os.path.join(dataset_folder, character)\n",
        "    augmented_character_folder_path = os.path.join(augmented_dataset_folder, character)\n",
        "    os.makedirs(augmented_character_folder_path, exist_ok=True)\n",
        "\n",
        "    if os.path.exists(character_folder_path):\n",
        "        current_count = len(os.listdir(character_folder_path))\n",
        "        target_count = int(mean_count)  # Целевое количество изображений для каждого класса = среднее\n",
        "        images_needed = target_count - current_count\n",
        "        augmentation_counts[character] = 0\n",
        "\n",
        "        if images_needed > 0:\n",
        "            for file_name in os.listdir(character_folder_path):\n",
        "                file_path = os.path.join(character_folder_path, file_name)\n",
        "                if os.path.isfile(file_path):\n",
        "                    # Проверка существования файла и корректности пути\n",
        "                    if not os.path.exists(file_path):\n",
        "                        print(f\"Ошибка: файл {file_path} не существует.\")\n",
        "                        continue\n",
        "                    try:\n",
        "                        # Чтение изображения\n",
        "                        img = cv2.imread(file_path)\n",
        "                        if img is None:\n",
        "                            print(f\"Ошибка: не удалось прочитать изображение {file_path}.\")\n",
        "                            continue\n",
        "                        img = cv2.cvtColor(img, cv2.COLOR_BGR2RGB)\n",
        "                        img = cv2.resize(img, (64, 64))  # Приводим к единому размеру\n",
        "                         # Применение аугментации\n",
        "                        img = img.reshape((1,) + img.shape)  # Преобразуем для генератора\n",
        "                        i = 0\n",
        "                        for batch in datagen.flow(img, batch_size=1):\n",
        "                            augmented_img = (batch[0] * 255).astype(np.uint8)  # Преобразуем обратно в изображение\n",
        "                            save_path = os.path.join(augmented_character_folder_path, f\"augmented_{file_name.split('.')[0]}_{i}.jpg\")\n",
        "                            cv2.imwrite(save_path, cv2.cvtColor(augmented_img, cv2.COLOR_RGB2BGR))\n",
        "                            augmented_images.append(save_path)\n",
        "                            augmented_labels.append(character)\n",
        "                            augmentation_counts[character] += 1\n",
        "                            augmented_image_paths.append(save_path)\n",
        "                            i += 1\n",
        "                            if i >= images_needed:  # Ограничение на количество сгенерированных изображений для достижения целевого количества\n",
        "                                break\n",
        "                        if augmentation_counts[character] >= images_needed:\n",
        "                            break\n",
        "                    except Exception as e:\n",
        "                        print(f\"Ошибка при обработке файла {file_path}: {e}\")\n"
      ],
      "metadata": {
        "id": "_EGsR0K5IttJ"
      },
      "execution_count": 24,
      "outputs": []
    },
    {
      "cell_type": "code",
      "source": [
        "# Таблица с количеством сгенерированных изображений для каждого класса\n",
        "augmentation_df = pd.DataFrame(list(augmentation_counts.items()), columns=['Класс', 'Количество сгенерированных изображений'])\n",
        "print(augmentation_df)"
      ],
      "metadata": {
        "colab": {
          "base_uri": "https://localhost:8080/"
        },
        "id": "zgLiqx0VH-29",
        "outputId": "b9616982-78ba-406a-b1ac-2adcc6a55262"
      },
      "execution_count": 25,
      "outputs": [
        {
          "output_type": "stream",
          "name": "stdout",
          "text": [
            "                   Класс  Количество сгенерированных изображений\n",
            "0           ralph_wiggum                                     420\n",
            "1               fat_tony                                     482\n",
            "2         snake_jailbird                                     454\n",
            "3           carl_carlson                                     411\n",
            "4                    gil                                     482\n",
            "5              disco_stu                                     501\n",
            "6            miss_hoover                                     492\n",
            "7            lionel_hutz                                     506\n",
            "8          patty_bouvier                                     437\n",
            "9   professor_john_frink                                     444\n",
            "10         agnes_skinner                                     467\n",
            "11    rainier_wolfcastle                                     464\n",
            "12          troy_mcclure                                     501\n",
            "13             otto_mann                                     477\n",
            "14          sideshow_mel                                     469\n",
            "15         martin_prince                                     438\n",
            "16       cletus_spuckler                                     462\n"
          ]
        }
      ]
    },
    {
      "cell_type": "code",
      "source": [
        "# Теперь можно объединить оригинальные и аугментированные изображения и метки\n",
        "images.extend(augmented_images)\n",
        "labels.extend(augmented_labels)\n",
        "\n",
        "print(f'Общее количество изображений после аугментации: {len(images)}')\n",
        "print(f'Общее количество меток после аугментации: {len(labels)}')"
      ],
      "metadata": {
        "colab": {
          "base_uri": "https://localhost:8080/"
        },
        "id": "3UjbP48LGsL2",
        "outputId": "2507acec-a852-40e9-e557-1d394e45ac2d"
      },
      "execution_count": 26,
      "outputs": [
        {
          "output_type": "stream",
          "name": "stdout",
          "text": [
            "Общее количество изображений после аугментации: 29830\n",
            "Общее количество меток после аугментации: 29830\n"
          ]
        }
      ]
    },
    {
      "cell_type": "code",
      "source": [
        "# Подготовка данных для модели\n",
        "filtered_X_train = []\n",
        "filtered_y_train = []\n",
        "for img_path, label in zip(X_train, y_train):\n",
        "    img = cv2.imread(str(img_path))\n",
        "    if img is not None:\n",
        "        img = cv2.resize(img, (64, 64)) #поискать другой трансформер для пред процессинга\n",
        "        filtered_X_train.append(img)\n",
        "        filtered_y_train.append(label)\n",
        "X_train_images = np.array(filtered_X_train) / 255.0  # Нормализация\n",
        "\n",
        "filtered_X_test = []\n",
        "filtered_y_test = []\n",
        "for img_path, label in zip(X_test, y_test):\n",
        "    img = cv2.imread(str(img_path))\n",
        "    if img is not None:\n",
        "        img = cv2.resize(img, (64, 64))\n",
        "        filtered_X_test.append(img)\n",
        "        filtered_y_test.append(label)\n",
        "X_test_images = np.array(filtered_X_test) / 255.0  # Нормализация\n"
      ],
      "metadata": {
        "id": "zBL2mJmRLjWd",
        "colab": {
          "base_uri": "https://localhost:8080/",
          "height": 216
        },
        "outputId": "ce22d5c2-132d-4e44-858c-02274f7761b1"
      },
      "execution_count": 28,
      "outputs": [
        {
          "output_type": "error",
          "ename": "NameError",
          "evalue": "name 'X_train' is not defined",
          "traceback": [
            "\u001b[0;31m---------------------------------------------------------------------------\u001b[0m",
            "\u001b[0;31mNameError\u001b[0m                                 Traceback (most recent call last)",
            "\u001b[0;32m<ipython-input-28-310588850584>\u001b[0m in \u001b[0;36m<cell line: 4>\u001b[0;34m()\u001b[0m\n\u001b[1;32m      2\u001b[0m \u001b[0mfiltered_X_train\u001b[0m \u001b[0;34m=\u001b[0m \u001b[0;34m[\u001b[0m\u001b[0;34m]\u001b[0m\u001b[0;34m\u001b[0m\u001b[0;34m\u001b[0m\u001b[0m\n\u001b[1;32m      3\u001b[0m \u001b[0mfiltered_y_train\u001b[0m \u001b[0;34m=\u001b[0m \u001b[0;34m[\u001b[0m\u001b[0;34m]\u001b[0m\u001b[0;34m\u001b[0m\u001b[0;34m\u001b[0m\u001b[0m\n\u001b[0;32m----> 4\u001b[0;31m \u001b[0;32mfor\u001b[0m \u001b[0mimg_path\u001b[0m\u001b[0;34m,\u001b[0m \u001b[0mlabel\u001b[0m \u001b[0;32min\u001b[0m \u001b[0mzip\u001b[0m\u001b[0;34m(\u001b[0m\u001b[0mX_train\u001b[0m\u001b[0;34m,\u001b[0m \u001b[0my_train\u001b[0m\u001b[0;34m)\u001b[0m\u001b[0;34m:\u001b[0m\u001b[0;34m\u001b[0m\u001b[0;34m\u001b[0m\u001b[0m\n\u001b[0m\u001b[1;32m      5\u001b[0m     \u001b[0mimg\u001b[0m \u001b[0;34m=\u001b[0m \u001b[0mcv2\u001b[0m\u001b[0;34m.\u001b[0m\u001b[0mimread\u001b[0m\u001b[0;34m(\u001b[0m\u001b[0mstr\u001b[0m\u001b[0;34m(\u001b[0m\u001b[0mimg_path\u001b[0m\u001b[0;34m)\u001b[0m\u001b[0;34m)\u001b[0m\u001b[0;34m\u001b[0m\u001b[0;34m\u001b[0m\u001b[0m\n\u001b[1;32m      6\u001b[0m     \u001b[0;32mif\u001b[0m \u001b[0mimg\u001b[0m \u001b[0;32mis\u001b[0m \u001b[0;32mnot\u001b[0m \u001b[0;32mNone\u001b[0m\u001b[0;34m:\u001b[0m\u001b[0;34m\u001b[0m\u001b[0;34m\u001b[0m\u001b[0m\n",
            "\u001b[0;31mNameError\u001b[0m: name 'X_train' is not defined"
          ]
        }
      ]
    },
    {
      "cell_type": "markdown",
      "source": [
        "# 4. Создание модели"
      ],
      "metadata": {
        "id": "b4mhHckc1AA1"
      }
    },
    {
      "cell_type": "code",
      "source": [
        "# Преобразование меток в числовой вид перед разделением\n",
        "label_mapping = {label: idx for idx, label in enumerate(set(labels))}\n",
        "labels = [label_mapping[label] for label in labels]\n",
        "\n",
        "unique_labels = set(labels)\n",
        "print(\"Уникальные метки:\", unique_labels)"
      ],
      "metadata": {
        "colab": {
          "base_uri": "https://localhost:8080/"
        },
        "id": "WMj8gp5gfFGb",
        "outputId": "9d720928-6411-4e2e-d8c5-96f3e6f3ad41"
      },
      "execution_count": 55,
      "outputs": [
        {
          "output_type": "stream",
          "name": "stdout",
          "text": [
            "Уникальные метки: {0, 1, 2, 3, 4, 5, 6, 7, 8, 9, 10, 11, 12, 13, 14, 15, 16, 17, 18, 19, 20, 21, 22, 23, 24, 25, 26, 27, 28, 29, 30, 31, 32, 33, 34, 35, 36, 37, 38, 39, 40, 41}\n"
          ]
        }
      ]
    },
    {
      "cell_type": "code",
      "source": [
        "# Разделение на тренировочный и тестовый наборы\n",
        "data = pd.DataFrame({'image': images, 'label': labels})\n",
        "print(data.head())\n",
        "print(data['label'].value_counts())\n",
        "sum_labels = data['label'].value_counts().sum()\n",
        "\n",
        "print(f\"Сумма меток: {sum_labels}\")"
      ],
      "metadata": {
        "id": "nLF5Kg8WLbac",
        "colab": {
          "base_uri": "https://localhost:8080/"
        },
        "outputId": "1041520d-5380-4aad-eb52-fe6f3a033075"
      },
      "execution_count": 73,
      "outputs": [
        {
          "output_type": "stream",
          "name": "stdout",
          "text": [
            "                                        image         label\n",
            "0  simpsons_dataset/chief_wiggum/pic_0182.jpg  chief_wiggum\n",
            "1  simpsons_dataset/chief_wiggum/pic_0769.jpg  chief_wiggum\n",
            "2  simpsons_dataset/chief_wiggum/pic_0833.jpg  chief_wiggum\n",
            "3  simpsons_dataset/chief_wiggum/pic_0709.jpg  chief_wiggum\n",
            "4  simpsons_dataset/chief_wiggum/pic_0608.jpg  chief_wiggum\n",
            "label\n",
            "homer_simpson               2296\n",
            "ned_flanders                1503\n",
            "moe_szyslak                 1502\n",
            "lisa_simpson                1404\n",
            "bart_simpson                1392\n",
            "marge_simpson               1341\n",
            "krusty_the_clown            1256\n",
            "principal_skinner           1244\n",
            "charles_montgomery_burns    1241\n",
            "milhouse_van_houten         1128\n",
            "chief_wiggum                1036\n",
            "abraham_grampa_simpson       961\n",
            "sideshow_bob                 924\n",
            "apu_nahasapeemapetilon       673\n",
            "kent_brockman                548\n",
            "comic_book_guy               518\n",
            "edna_krabappel               507\n",
            "nelson_muntz                 408\n",
            "lenny_leonard                360\n",
            "mayor_quimby                 296\n",
            "waylon_smithers              181\n",
            "maggie_simpson               128\n",
            "groundskeeper_willie         121\n",
            "barney_gumble                106\n",
            "selma_bouvier                103\n",
            "carl_carlson                  98\n",
            "ralph_wiggum                  89\n",
            "patty_bouvier                 72\n",
            "martin_prince                 71\n",
            "professor_john_frink          65\n",
            "snake_jailbird                55\n",
            "cletus_spuckler               47\n",
            "rainier_wolfcastle            45\n",
            "agnes_skinner                 42\n",
            "sideshow_mel                  40\n",
            "otto_mann                     32\n",
            "gil                           27\n",
            "fat_tony                      27\n",
            "miss_hoover                   17\n",
            "troy_mcclure                   8\n",
            "disco_stu                      8\n",
            "lionel_hutz                    3\n",
            "Name: count, dtype: int64\n",
            "Сумма меток: 21923\n"
          ]
        }
      ]
    },
    {
      "cell_type": "code",
      "source": [
        "# Разделение данных на обучающую и тестовую выборки\n",
        "X_train, X_test, y_train, y_test = train_test_split(\n",
        "    data['image'].tolist(),\n",
        "    data['label'].tolist(),\n",
        "    test_size=0.2,\n",
        "    stratify=data['label'],\n",
        "    random_state=42\n",
        ")"
      ],
      "metadata": {
        "id": "fN4JHw41o11q"
      },
      "execution_count": 78,
      "outputs": []
    },
    {
      "cell_type": "code",
      "source": [
        "# Вывод статистики для y_train\n",
        "print(\"Статистика для y_train:\")\n",
        "print(f\"Количество элементов: {len(y_train)}\")\n",
        "print(f\"Уникальные метки: {set(y_train)}\")\n",
        "print(f\"Количество уникальных меток: {len(set(y_train))}\")\n",
        "\n",
        "# Подсчет количества каждой уникальной метки\n",
        "label_counts = pd.Series(y_train).value_counts()\n",
        "print(\"\\nКоличество каждой уникальной метки:\")\n",
        "print(label_counts)\n",
        "\n",
        "# Если нужно вывести статистику для y_test\n",
        "print(\"\\nСтатистика для y_test:\")\n",
        "print(f\"Количество элементов: {len(y_test)}\")\n",
        "print(f\"Уникальные метки: {set(y_test)}\")\n",
        "print(f\"Количество уникальных меток: {len(set(y_test))}\")"
      ],
      "metadata": {
        "colab": {
          "base_uri": "https://localhost:8080/"
        },
        "id": "KzA4TAsXpcO0",
        "outputId": "81654f1d-3607-48ae-eca2-a60005fb52ef"
      },
      "execution_count": 81,
      "outputs": [
        {
          "output_type": "stream",
          "name": "stdout",
          "text": [
            "Статистика для y_train:\n",
            "Количество элементов: 17538\n",
            "Уникальные метки: {'groundskeeper_willie', 'martin_prince', 'professor_john_frink', 'troy_mcclure', 'otto_mann', 'marge_simpson', 'maggie_simpson', 'principal_skinner', 'patty_bouvier', 'apu_nahasapeemapetilon', 'miss_hoover', 'nelson_muntz', 'chief_wiggum', 'charles_montgomery_burns', 'carl_carlson', 'cletus_spuckler', 'lionel_hutz', 'lisa_simpson', 'moe_szyslak', 'gil', 'edna_krabappel', 'homer_simpson', 'ralph_wiggum', 'rainier_wolfcastle', 'bart_simpson', 'fat_tony', 'ned_flanders', 'waylon_smithers', 'lenny_leonard', 'disco_stu', 'milhouse_van_houten', 'krusty_the_clown', 'snake_jailbird', 'sideshow_bob', 'abraham_grampa_simpson', 'selma_bouvier', 'kent_brockman', 'agnes_skinner', 'mayor_quimby', 'barney_gumble', 'comic_book_guy', 'sideshow_mel'}\n",
            "Количество уникальных меток: 42\n",
            "\n",
            "Количество каждой уникальной метки:\n",
            "homer_simpson               1837\n",
            "ned_flanders                1202\n",
            "moe_szyslak                 1201\n",
            "lisa_simpson                1123\n",
            "bart_simpson                1114\n",
            "marge_simpson               1073\n",
            "krusty_the_clown            1005\n",
            "principal_skinner            995\n",
            "charles_montgomery_burns     993\n",
            "milhouse_van_houten          902\n",
            "chief_wiggum                 829\n",
            "abraham_grampa_simpson       769\n",
            "sideshow_bob                 739\n",
            "apu_nahasapeemapetilon       538\n",
            "kent_brockman                438\n",
            "comic_book_guy               414\n",
            "edna_krabappel               406\n",
            "nelson_muntz                 326\n",
            "lenny_leonard                288\n",
            "mayor_quimby                 237\n",
            "waylon_smithers              145\n",
            "maggie_simpson               102\n",
            "groundskeeper_willie          97\n",
            "barney_gumble                 85\n",
            "selma_bouvier                 82\n",
            "carl_carlson                  78\n",
            "ralph_wiggum                  71\n",
            "patty_bouvier                 58\n",
            "martin_prince                 57\n",
            "professor_john_frink          52\n",
            "snake_jailbird                44\n",
            "cletus_spuckler               38\n",
            "rainier_wolfcastle            36\n",
            "agnes_skinner                 34\n",
            "sideshow_mel                  32\n",
            "otto_mann                     26\n",
            "gil                           22\n",
            "fat_tony                      22\n",
            "miss_hoover                   14\n",
            "troy_mcclure                   6\n",
            "disco_stu                      6\n",
            "lionel_hutz                    2\n",
            "Name: count, dtype: int64\n",
            "\n",
            "Статистика для y_test:\n",
            "Количество элементов: 4385\n",
            "Уникальные метки: {'groundskeeper_willie', 'martin_prince', 'professor_john_frink', 'troy_mcclure', 'otto_mann', 'marge_simpson', 'maggie_simpson', 'principal_skinner', 'patty_bouvier', 'apu_nahasapeemapetilon', 'miss_hoover', 'nelson_muntz', 'chief_wiggum', 'charles_montgomery_burns', 'carl_carlson', 'cletus_spuckler', 'lionel_hutz', 'lisa_simpson', 'moe_szyslak', 'gil', 'edna_krabappel', 'homer_simpson', 'ralph_wiggum', 'rainier_wolfcastle', 'bart_simpson', 'fat_tony', 'ned_flanders', 'waylon_smithers', 'lenny_leonard', 'disco_stu', 'milhouse_van_houten', 'krusty_the_clown', 'snake_jailbird', 'sideshow_bob', 'abraham_grampa_simpson', 'selma_bouvier', 'kent_brockman', 'agnes_skinner', 'mayor_quimby', 'barney_gumble', 'comic_book_guy', 'sideshow_mel'}\n",
            "Количество уникальных меток: 42\n"
          ]
        }
      ]
    },
    {
      "cell_type": "code",
      "source": [
        "# Преобразование меток в числовой формат\n",
        "label_to_int = {label: idx for idx, label in enumerate(set(y_train))}\n",
        "y_train_encoded = [label_to_int[label] for label in y_train]\n",
        "y_test_encoded = [label_to_int[label] for label in y_test]\n",
        "\n",
        "# One-hot encoding с использованием to_categorical\n",
        "y_train_one_hot = to_categorical(y_train_encoded)\n",
        "y_test_one_hot = to_categorical(y_test_encoded)\n",
        "\n",
        "# Проверка результата\n",
        "print(\"Преобразованные метки y_train (one-hot):\")\n",
        "print(y_train_one_hot[:5])  # Показать первые 5 преобразованных меток\n",
        "print(\"Количество уникальных меток:\", len(label_to_int))  # Количество классов"
      ],
      "metadata": {
        "colab": {
          "base_uri": "https://localhost:8080/"
        },
        "id": "w7U69LjptHqq",
        "outputId": "363b0a37-def6-4cce-8bfe-63b63feaaaa7"
      },
      "execution_count": 87,
      "outputs": [
        {
          "output_type": "stream",
          "name": "stdout",
          "text": [
            "Преобразованные метки y_train (one-hot):\n",
            "[[0. 0. 0. 0. 0. 0. 0. 0. 0. 0. 0. 0. 0. 0. 0. 0. 0. 0. 0. 0. 0. 0. 0. 0.\n",
            "  0. 0. 0. 0. 1. 0. 0. 0. 0. 0. 0. 0. 0. 0. 0. 0. 0. 0.]\n",
            " [0. 0. 0. 0. 0. 0. 0. 0. 0. 0. 0. 0. 0. 0. 0. 0. 0. 0. 0. 0. 0. 1. 0. 0.\n",
            "  0. 0. 0. 0. 0. 0. 0. 0. 0. 0. 0. 0. 0. 0. 0. 0. 0. 0.]\n",
            " [0. 0. 0. 0. 0. 0. 0. 0. 0. 0. 0. 0. 0. 0. 0. 0. 0. 0. 0. 0. 0. 0. 0. 0.\n",
            "  1. 0. 0. 0. 0. 0. 0. 0. 0. 0. 0. 0. 0. 0. 0. 0. 0. 0.]\n",
            " [0. 0. 0. 0. 0. 0. 0. 0. 0. 0. 0. 0. 0. 0. 0. 0. 0. 1. 0. 0. 0. 0. 0. 0.\n",
            "  0. 0. 0. 0. 0. 0. 0. 0. 0. 0. 0. 0. 0. 0. 0. 0. 0. 0.]\n",
            " [0. 0. 0. 0. 0. 0. 0. 0. 0. 0. 0. 0. 0. 0. 0. 0. 0. 0. 0. 0. 0. 0. 0. 0.\n",
            "  0. 0. 0. 0. 1. 0. 0. 0. 0. 0. 0. 0. 0. 0. 0. 0. 0. 0.]]\n",
            "Количество уникальных меток: 42\n"
          ]
        }
      ]
    },
    {
      "cell_type": "code",
      "source": [
        "# Настройка ImageDataGenerator для онлайн-аугментации данных\n",
        "datagen = ImageDataGenerator(\n",
        "    rescale=1./255,\n",
        "    rotation_range=20,\n",
        "    width_shift_range=0.2,\n",
        "    height_shift_range=0.2,\n",
        "    shear_range=0.2,\n",
        "    zoom_range=0.2,\n",
        "    horizontal_flip=True,\n",
        "    fill_mode='nearest',\n",
        "    preprocessing_function=tf.keras.applications.mobilenet_v2.preprocess_input\n",
        ")"
      ],
      "metadata": {
        "id": "-kyHFObj6fRr"
      },
      "execution_count": 88,
      "outputs": []
    },
    {
      "cell_type": "code",
      "source": [
        "# Создание генератора изображений\n",
        "datagen = ImageDataGenerator(rescale=1./255)  # Нормализация изображений\n",
        "\n",
        "# Создание генераторов для тренировочного набора\n",
        "train_generator = datagen.flow_from_dataframe(\n",
        "    dataframe=pd.DataFrame({'filename': X_train, 'class': list(y_train_one_hot)}),  # Используем закодированные метки\n",
        "    x_col='filename',\n",
        "    y_col='class',\n",
        "    target_size=(64, 64),\n",
        "    batch_size=32,\n",
        "    class_mode='categorical'  # Убедитесь, что class_mode установлен на 'categorical'\n",
        ")\n",
        "\n",
        "# Создание генераторов для тестового набора (если необходимо)\n",
        "test_generator = datagen.flow_from_dataframe(\n",
        "    dataframe=pd.DataFrame({'filename': X_test, 'class': list(y_test_one_hot)}),  # Используем закодированные метки\n",
        "    x_col='filename',\n",
        "    y_col='class',\n",
        "    target_size=(64, 64),\n",
        "    batch_size=32,\n",
        "    class_mode='categorical'\n",
        ")"
      ],
      "metadata": {
        "colab": {
          "base_uri": "https://localhost:8080/",
          "height": 400
        },
        "id": "sRbS1pig6npO",
        "outputId": "0a3b09e1-2682-4642-e55d-00801e507039"
      },
      "execution_count": 89,
      "outputs": [
        {
          "output_type": "error",
          "ename": "TypeError",
          "evalue": "If class_mode=\"categorical\", y_col=\"class\" column values must be type string, list or tuple.",
          "traceback": [
            "\u001b[0;31m---------------------------------------------------------------------------\u001b[0m",
            "\u001b[0;31mTypeError\u001b[0m                                 Traceback (most recent call last)",
            "\u001b[0;32m<ipython-input-89-d5731a213cdf>\u001b[0m in \u001b[0;36m<cell line: 5>\u001b[0;34m()\u001b[0m\n\u001b[1;32m      3\u001b[0m \u001b[0;34m\u001b[0m\u001b[0m\n\u001b[1;32m      4\u001b[0m \u001b[0;31m# Создание генераторов для тренировочного набора\u001b[0m\u001b[0;34m\u001b[0m\u001b[0;34m\u001b[0m\u001b[0m\n\u001b[0;32m----> 5\u001b[0;31m train_generator = datagen.flow_from_dataframe(\n\u001b[0m\u001b[1;32m      6\u001b[0m     \u001b[0mdataframe\u001b[0m\u001b[0;34m=\u001b[0m\u001b[0mpd\u001b[0m\u001b[0;34m.\u001b[0m\u001b[0mDataFrame\u001b[0m\u001b[0;34m(\u001b[0m\u001b[0;34m{\u001b[0m\u001b[0;34m'filename'\u001b[0m\u001b[0;34m:\u001b[0m \u001b[0mX_train\u001b[0m\u001b[0;34m,\u001b[0m \u001b[0;34m'class'\u001b[0m\u001b[0;34m:\u001b[0m \u001b[0mlist\u001b[0m\u001b[0;34m(\u001b[0m\u001b[0my_train_one_hot\u001b[0m\u001b[0;34m)\u001b[0m\u001b[0;34m}\u001b[0m\u001b[0;34m)\u001b[0m\u001b[0;34m,\u001b[0m  \u001b[0;31m# Используем закодированные метки\u001b[0m\u001b[0;34m\u001b[0m\u001b[0;34m\u001b[0m\u001b[0m\n\u001b[1;32m      7\u001b[0m     \u001b[0mx_col\u001b[0m\u001b[0;34m=\u001b[0m\u001b[0;34m'filename'\u001b[0m\u001b[0;34m,\u001b[0m\u001b[0;34m\u001b[0m\u001b[0;34m\u001b[0m\u001b[0m\n",
            "\u001b[0;32m/usr/local/lib/python3.10/dist-packages/keras/src/legacy/preprocessing/image.py\u001b[0m in \u001b[0;36mflow_from_dataframe\u001b[0;34m(self, dataframe, directory, x_col, y_col, weight_col, target_size, color_mode, classes, class_mode, batch_size, shuffle, seed, save_to_dir, save_prefix, save_format, subset, interpolation, validate_filenames, **kwargs)\u001b[0m\n\u001b[1;32m   1206\u001b[0m             )\n\u001b[1;32m   1207\u001b[0m \u001b[0;34m\u001b[0m\u001b[0m\n\u001b[0;32m-> 1208\u001b[0;31m         return DataFrameIterator(\n\u001b[0m\u001b[1;32m   1209\u001b[0m             \u001b[0mdataframe\u001b[0m\u001b[0;34m,\u001b[0m\u001b[0;34m\u001b[0m\u001b[0;34m\u001b[0m\u001b[0m\n\u001b[1;32m   1210\u001b[0m             \u001b[0mdirectory\u001b[0m\u001b[0;34m,\u001b[0m\u001b[0;34m\u001b[0m\u001b[0;34m\u001b[0m\u001b[0m\n",
            "\u001b[0;32m/usr/local/lib/python3.10/dist-packages/keras/src/legacy/preprocessing/image.py\u001b[0m in \u001b[0;36m__init__\u001b[0;34m(self, dataframe, directory, image_data_generator, x_col, y_col, weight_col, target_size, color_mode, classes, class_mode, batch_size, shuffle, seed, data_format, save_to_dir, save_prefix, save_format, subset, interpolation, keep_aspect_ratio, dtype, validate_filenames)\u001b[0m\n\u001b[1;32m    749\u001b[0m         \u001b[0mself\u001b[0m\u001b[0;34m.\u001b[0m\u001b[0mdtype\u001b[0m \u001b[0;34m=\u001b[0m \u001b[0mdtype\u001b[0m\u001b[0;34m\u001b[0m\u001b[0;34m\u001b[0m\u001b[0m\n\u001b[1;32m    750\u001b[0m         \u001b[0;31m# check that inputs match the required class_mode\u001b[0m\u001b[0;34m\u001b[0m\u001b[0;34m\u001b[0m\u001b[0m\n\u001b[0;32m--> 751\u001b[0;31m         \u001b[0mself\u001b[0m\u001b[0;34m.\u001b[0m\u001b[0m_check_params\u001b[0m\u001b[0;34m(\u001b[0m\u001b[0mdf\u001b[0m\u001b[0;34m,\u001b[0m \u001b[0mx_col\u001b[0m\u001b[0;34m,\u001b[0m \u001b[0my_col\u001b[0m\u001b[0;34m,\u001b[0m \u001b[0mweight_col\u001b[0m\u001b[0;34m,\u001b[0m \u001b[0mclasses\u001b[0m\u001b[0;34m)\u001b[0m\u001b[0;34m\u001b[0m\u001b[0;34m\u001b[0m\u001b[0m\n\u001b[0m\u001b[1;32m    752\u001b[0m         if (\n\u001b[1;32m    753\u001b[0m             \u001b[0mvalidate_filenames\u001b[0m\u001b[0;34m\u001b[0m\u001b[0;34m\u001b[0m\u001b[0m\n",
            "\u001b[0;32m/usr/local/lib/python3.10/dist-packages/keras/src/legacy/preprocessing/image.py\u001b[0m in \u001b[0;36m_check_params\u001b[0;34m(self, df, x_col, y_col, weight_col, classes)\u001b[0m\n\u001b[1;32m    839\u001b[0m             \u001b[0mtypes\u001b[0m \u001b[0;34m=\u001b[0m \u001b[0;34m(\u001b[0m\u001b[0mstr\u001b[0m\u001b[0;34m,\u001b[0m \u001b[0mlist\u001b[0m\u001b[0;34m,\u001b[0m \u001b[0mtuple\u001b[0m\u001b[0;34m)\u001b[0m\u001b[0;34m\u001b[0m\u001b[0;34m\u001b[0m\u001b[0m\n\u001b[1;32m    840\u001b[0m             \u001b[0;32mif\u001b[0m \u001b[0;32mnot\u001b[0m \u001b[0mall\u001b[0m\u001b[0;34m(\u001b[0m\u001b[0mdf\u001b[0m\u001b[0;34m[\u001b[0m\u001b[0my_col\u001b[0m\u001b[0;34m]\u001b[0m\u001b[0;34m.\u001b[0m\u001b[0mapply\u001b[0m\u001b[0;34m(\u001b[0m\u001b[0;32mlambda\u001b[0m \u001b[0mx\u001b[0m\u001b[0;34m:\u001b[0m \u001b[0misinstance\u001b[0m\u001b[0;34m(\u001b[0m\u001b[0mx\u001b[0m\u001b[0;34m,\u001b[0m \u001b[0mtypes\u001b[0m\u001b[0;34m)\u001b[0m\u001b[0;34m)\u001b[0m\u001b[0;34m)\u001b[0m\u001b[0;34m:\u001b[0m\u001b[0;34m\u001b[0m\u001b[0;34m\u001b[0m\u001b[0m\n\u001b[0;32m--> 841\u001b[0;31m                 raise TypeError(\n\u001b[0m\u001b[1;32m    842\u001b[0m                     \u001b[0;34m'If class_mode=\"{}\", y_col=\"{}\" column '\u001b[0m\u001b[0;34m\u001b[0m\u001b[0;34m\u001b[0m\u001b[0m\n\u001b[1;32m    843\u001b[0m                     \"values must be type string, list or tuple.\".format(\n",
            "\u001b[0;31mTypeError\u001b[0m: If class_mode=\"categorical\", y_col=\"class\" column values must be type string, list or tuple."
          ]
        }
      ]
    },
    {
      "cell_type": "code",
      "source": [],
      "metadata": {
        "colab": {
          "base_uri": "https://localhost:8080/"
        },
        "id": "wfMqGEK5Gw1H",
        "outputId": "572c2a2b-97f0-41b0-dbee-ac22c73b3169"
      },
      "execution_count": 85,
      "outputs": [
        {
          "output_type": "stream",
          "name": "stdout",
          "text": [
            "Пример меток y_train перед преобразованием: ['lenny_leonard', 'homer_simpson', 'bart_simpson', 'lisa_simpson', 'lenny_leonard', 'principal_skinner', 'sideshow_bob', 'apu_nahasapeemapetilon', 'chief_wiggum', 'moe_szyslak']\n",
            "Пример меток y_test перед преобразованием: ['krusty_the_clown', 'nelson_muntz', 'abraham_grampa_simpson', 'comic_book_guy', 'homer_simpson', 'moe_szyslak', 'krusty_the_clown', 'abraham_grampa_simpson', 'sideshow_bob', 'abraham_grampa_simpson']\n"
          ]
        }
      ]
    },
    {
      "cell_type": "code",
      "source": [],
      "metadata": {
        "colab": {
          "base_uri": "https://localhost:8080/",
          "height": 305
        },
        "id": "JDAZh14ITcRC",
        "outputId": "3a6c267d-7969-4175-8a6e-5ec14a10a515"
      },
      "execution_count": 86,
      "outputs": [
        {
          "output_type": "error",
          "ename": "ValueError",
          "evalue": "invalid literal for int() with base 10: 'lenny_leonard'",
          "traceback": [
            "\u001b[0;31m---------------------------------------------------------------------------\u001b[0m",
            "\u001b[0;31mValueError\u001b[0m                                Traceback (most recent call last)",
            "\u001b[0;32m<ipython-input-86-5c77534ca061>\u001b[0m in \u001b[0;36m<cell line: 2>\u001b[0;34m()\u001b[0m\n\u001b[1;32m      1\u001b[0m \u001b[0;31m# Преобразование меток в категориальный вид\u001b[0m\u001b[0;34m\u001b[0m\u001b[0;34m\u001b[0m\u001b[0m\n\u001b[0;32m----> 2\u001b[0;31m \u001b[0my_train\u001b[0m \u001b[0;34m=\u001b[0m \u001b[0mto_categorical\u001b[0m\u001b[0;34m(\u001b[0m\u001b[0my_train\u001b[0m\u001b[0;34m,\u001b[0m \u001b[0mnum_classes\u001b[0m\u001b[0;34m=\u001b[0m\u001b[0mlen\u001b[0m\u001b[0;34m(\u001b[0m\u001b[0mlabel_mapping\u001b[0m\u001b[0;34m)\u001b[0m\u001b[0;34m)\u001b[0m\u001b[0;34m\u001b[0m\u001b[0;34m\u001b[0m\u001b[0m\n\u001b[0m\u001b[1;32m      3\u001b[0m \u001b[0my_test\u001b[0m \u001b[0;34m=\u001b[0m \u001b[0mto_categorical\u001b[0m\u001b[0;34m(\u001b[0m\u001b[0my_test\u001b[0m\u001b[0;34m,\u001b[0m \u001b[0mnum_classes\u001b[0m\u001b[0;34m=\u001b[0m\u001b[0mlen\u001b[0m\u001b[0;34m(\u001b[0m\u001b[0mlabel_mapping\u001b[0m\u001b[0;34m)\u001b[0m\u001b[0;34m)\u001b[0m\u001b[0;34m\u001b[0m\u001b[0;34m\u001b[0m\u001b[0m\n",
            "\u001b[0;32m/usr/local/lib/python3.10/dist-packages/keras/src/utils/numerical_utils.py\u001b[0m in \u001b[0;36mto_categorical\u001b[0;34m(x, num_classes)\u001b[0m\n\u001b[1;32m     84\u001b[0m             \u001b[0mx\u001b[0m \u001b[0;34m=\u001b[0m \u001b[0mbackend\u001b[0m\u001b[0;34m.\u001b[0m\u001b[0mnumpy\u001b[0m\u001b[0;34m.\u001b[0m\u001b[0mreshape\u001b[0m\u001b[0;34m(\u001b[0m\u001b[0mx\u001b[0m\u001b[0;34m,\u001b[0m \u001b[0mnewshape\u001b[0m\u001b[0;34m)\u001b[0m\u001b[0;34m\u001b[0m\u001b[0;34m\u001b[0m\u001b[0m\n\u001b[1;32m     85\u001b[0m         \u001b[0;32mreturn\u001b[0m \u001b[0mbackend\u001b[0m\u001b[0;34m.\u001b[0m\u001b[0mnn\u001b[0m\u001b[0;34m.\u001b[0m\u001b[0mone_hot\u001b[0m\u001b[0;34m(\u001b[0m\u001b[0mx\u001b[0m\u001b[0;34m,\u001b[0m \u001b[0mnum_classes\u001b[0m\u001b[0;34m)\u001b[0m\u001b[0;34m\u001b[0m\u001b[0;34m\u001b[0m\u001b[0m\n\u001b[0;32m---> 86\u001b[0;31m     \u001b[0mx\u001b[0m \u001b[0;34m=\u001b[0m \u001b[0mnp\u001b[0m\u001b[0;34m.\u001b[0m\u001b[0marray\u001b[0m\u001b[0;34m(\u001b[0m\u001b[0mx\u001b[0m\u001b[0;34m,\u001b[0m \u001b[0mdtype\u001b[0m\u001b[0;34m=\u001b[0m\u001b[0;34m\"int64\"\u001b[0m\u001b[0;34m)\u001b[0m\u001b[0;34m\u001b[0m\u001b[0;34m\u001b[0m\u001b[0m\n\u001b[0m\u001b[1;32m     87\u001b[0m     \u001b[0minput_shape\u001b[0m \u001b[0;34m=\u001b[0m \u001b[0mx\u001b[0m\u001b[0;34m.\u001b[0m\u001b[0mshape\u001b[0m\u001b[0;34m\u001b[0m\u001b[0;34m\u001b[0m\u001b[0m\n\u001b[1;32m     88\u001b[0m \u001b[0;34m\u001b[0m\u001b[0m\n",
            "\u001b[0;31mValueError\u001b[0m: invalid literal for int() with base 10: 'lenny_leonard'"
          ]
        }
      ]
    },
    {
      "cell_type": "code",
      "source": [
        "# Преобразование меток train и test в строковый формат перед использованием в генераторах\n",
        "y_train_labels = [str(label) for label in np.argmax(y_train, axis=1)]\n",
        "y_test_labels = [str(label) for label in np.argmax(y_test, axis=1)]"
      ],
      "metadata": {
        "id": "dyuOvPwJTgl5"
      },
      "execution_count": 47,
      "outputs": []
    },
    {
      "cell_type": "code",
      "source": [
        "# Обновление данных в генераторах\n",
        "\n",
        "# Проверка наличия всех файлов в тестовом наборе\n",
        "missing_files_test = [path for path in dataframe_test['filename'] if not os.path.exists(path)]\n",
        "print(f\"Количество отсутствующих файлов в тестовом наборе: {len(missing_files_test)}\")\n",
        "if missing_files_test:\n",
        "    print(\"Отсутствующие файлы в тестовом наборе:\")\n",
        "    print(missing_files_test[:10])  # Печать первых 10 отсутствующих файлов\n",
        "\n",
        "# Проверка количества данных в генераторах\n",
        "train_generator = datagen.flow_from_dataframe(\n",
        "    dataframe=dataframe_train,\n",
        "    x_col='filename',\n",
        "    y_col='class',\n",
        "    target_size=(64, 64),\n",
        "    batch_size=32,\n",
        "    class_mode='categorical',\n",
        "    shuffle=True  # Добавляем перемешивание данных для улучшения обучения\n",
        ")"
      ],
      "metadata": {
        "colab": {
          "base_uri": "https://localhost:8080/"
        },
        "id": "Mr99NNmn8XNV",
        "outputId": "92023e08-484e-43ee-89c0-40e8cf9f556a"
      },
      "execution_count": 67,
      "outputs": [
        {
          "output_type": "stream",
          "name": "stdout",
          "text": [
            "Количество отсутствующих файлов в тестовом наборе: 0\n",
            "Found 17538 validated image filenames belonging to 42 classes.\n"
          ]
        }
      ]
    },
    {
      "cell_type": "code",
      "source": [
        "# Проверка распределения классов в train_generator\n",
        "print(\"Количество изображений в train_generator после генерации:\", train_generator.samples)\n",
        "print(\"Классы train_generator:\", train_generator.class_indices)\n",
        "\n",
        "# Обновление label_mapping из классов генератора, чтобы избежать несоответствий\n",
        "label_mapping = train_generator.class_indices"
      ],
      "metadata": {
        "colab": {
          "base_uri": "https://localhost:8080/"
        },
        "id": "4qI3WeMRjrWO",
        "outputId": "ef4c0b4f-82fc-43a5-a810-0ce1eae22e19"
      },
      "execution_count": 69,
      "outputs": [
        {
          "output_type": "stream",
          "name": "stdout",
          "text": [
            "Количество изображений в train_generator после генерации: 17538\n",
            "Классы train_generator: {'0': 0, '1': 1, '10': 2, '11': 3, '12': 4, '13': 5, '14': 6, '15': 7, '16': 8, '17': 9, '18': 10, '19': 11, '2': 12, '20': 13, '21': 14, '22': 15, '23': 16, '24': 17, '25': 18, '26': 19, '27': 20, '28': 21, '29': 22, '3': 23, '30': 24, '31': 25, '32': 26, '33': 27, '34': 28, '35': 29, '36': 30, '37': 31, '38': 32, '39': 33, '4': 34, '40': 35, '41': 36, '5': 37, '6': 38, '7': 39, '8': 40, '9': 41}\n"
          ]
        }
      ]
    },
    {
      "cell_type": "code",
      "source": [
        "# Тестовый генератор\n",
        "test_generator = datagen.flow_from_dataframe(\n",
        "    dataframe=dataframe_test,\n",
        "    x_col='filename',\n",
        "    y_col='class',\n",
        "    target_size=(64, 64),\n",
        "    batch_size=32,\n",
        "    class_mode='categorical',\n",
        "    shuffle=False  # Тестовые данные не должны быть перемешаны для корректной оценки\n",
        ")"
      ],
      "metadata": {
        "colab": {
          "base_uri": "https://localhost:8080/"
        },
        "id": "FnQz8V7hj2_i",
        "outputId": "d6c82c65-0c18-4763-c228-5ea45d30e5fa"
      },
      "execution_count": 63,
      "outputs": [
        {
          "output_type": "stream",
          "name": "stdout",
          "text": [
            "Found 4385 validated image filenames belonging to 42 classes.\n"
          ]
        }
      ]
    },
    {
      "cell_type": "code",
      "source": [
        "# Проверка распределения классов в test_generator\n",
        "print(\"Количество изображений в test_generator после генерации:\", test_generator.samples)\n",
        "print(f\"Количество изображений в test_generator: {test_generator.samples}\")\n",
        "dataframe_train = pd.DataFrame({'filename': X_train, 'class': y_train_labels})\n",
        "dataframe_test = pd.DataFrame({'filename': X_test, 'class': y_test_labels})\n",
        "train_generator = datagen.flow_from_dataframe(\n",
        "    dataframe=dataframe_train,\n",
        "    x_col='filename',\n",
        "    y_col='class',\n",
        "    target_size=(64, 64),\n",
        "    batch_size=32,\n",
        "    class_mode='categorical'\n",
        ")"
      ],
      "metadata": {
        "colab": {
          "base_uri": "https://localhost:8080/"
        },
        "id": "zqJWMWjCkHEY",
        "outputId": "eb54e41a-379b-4efd-8445-a82339595d93"
      },
      "execution_count": 64,
      "outputs": [
        {
          "output_type": "stream",
          "name": "stdout",
          "text": [
            "Количество изображений в test_generator после генерации: 4385\n",
            "Количество изображений в test_generator: 4385\n",
            "Found 17538 validated image filenames belonging to 42 classes.\n"
          ]
        }
      ]
    },
    {
      "cell_type": "code",
      "source": [
        "# Обновление тестового генератора\n",
        "test_generator = datagen.flow_from_dataframe(\n",
        "    dataframe=dataframe_test,\n",
        "    x_col='filename',\n",
        "    y_col='class',\n",
        "    target_size=(64, 64),\n",
        "    batch_size=32,\n",
        "    class_mode='categorical'\n",
        ")"
      ],
      "metadata": {
        "colab": {
          "base_uri": "https://localhost:8080/"
        },
        "id": "YnUDBmOokOKG",
        "outputId": "44ce74ff-7f58-4fbc-a1f2-a1680111e5c9"
      },
      "execution_count": 65,
      "outputs": [
        {
          "output_type": "stream",
          "name": "stdout",
          "text": [
            "Found 4385 validated image filenames belonging to 42 classes.\n"
          ]
        }
      ]
    },
    {
      "cell_type": "code",
      "source": [
        "# Создание модели\n",
        "model = Sequential()\n",
        "model.add(Conv2D(32, (3, 3), activation='relu', input_shape=(64, 64, 3)))\n",
        "model.add(MaxPooling2D(pool_size=(2, 2)))\n",
        "model.add(Conv2D(64, (3, 3), activation='relu'))\n",
        "model.add(MaxPooling2D(pool_size=(2, 2)))\n",
        "model.add(Flatten())\n",
        "model.add(Dense(128, activation='relu'))\n",
        "model.add(Dropout(0.5))\n",
        "model.add(Dense(len(label_mapping), activation='softmax'))"
      ],
      "metadata": {
        "colab": {
          "base_uri": "https://localhost:8080/"
        },
        "id": "-FRvHRWr1I_0",
        "outputId": "bf6daafe-e2f8-4ceb-9704-45b026d8a631"
      },
      "execution_count": 50,
      "outputs": [
        {
          "output_type": "stream",
          "name": "stderr",
          "text": [
            "/usr/local/lib/python3.10/dist-packages/keras/src/layers/convolutional/base_conv.py:107: UserWarning: Do not pass an `input_shape`/`input_dim` argument to a layer. When using Sequential models, prefer using an `Input(shape)` object as the first layer in the model instead.\n",
            "  super().__init__(activity_regularizer=activity_regularizer, **kwargs)\n"
          ]
        }
      ]
    },
    {
      "cell_type": "markdown",
      "source": [
        "Softmax — ф-я для преобразования вектора реальных чисел в вероятностное распределение. Подходит для задач многоклассовой классификации входных данных.\n",
        "\n",
        "Преобразует каждый элемент входного вектора в значение от 0 до 1, причем сумма всех выходных значений равна 1. Это позволяет интерпретировать выходные данные как вероятности принадлежности к каждому из классов."
      ],
      "metadata": {
        "id": "lckwCEpXOSQd"
      }
    },
    {
      "cell_type": "markdown",
      "source": [
        "# 5. Компиляция и обучение модели"
      ],
      "metadata": {
        "id": "fBYLorsZ3LI_"
      }
    },
    {
      "cell_type": "code",
      "source": [
        "# Компиляция модели\n",
        "model.compile(optimizer='adam', loss='categorical_crossentropy', metrics=['accuracy'])\n",
        "# когда выбрала в качестве метрики ф1 — модель успешно обучилась до val_f1: 0.9061, val_loss: 2.3674\n",
        "# при этом в стате модели все было нулевое, поэтому вернулась к классике и акураси"
      ],
      "metadata": {
        "id": "VH6sIv2j3NNS"
      },
      "execution_count": 51,
      "outputs": []
    },
    {
      "cell_type": "markdown",
      "source": [
        "Категориальная кросс-энтропия — это функция потерь, используемая в задачах многоклассовой классификации, где модель должна предсказать вероятность принадлежности примера к одной из нескольких категорий.\n",
        "\n",
        "Измеряет разницу между истинным распределением вероятностей (обычно закодированным в формате one-hot) и предсказанным распределением вероятностей, полученным от модели (обычно через softmax)."
      ],
      "metadata": {
        "id": "CUiCmnSkQKsf"
      }
    },
    {
      "cell_type": "code",
      "source": [
        "# Обучение модели с использованием онлайн-аугментации\n",
        "model.fit(train_generator, validation_data=test_generator, epochs=10)"
      ],
      "metadata": {
        "colab": {
          "base_uri": "https://localhost:8080/"
        },
        "id": "yOpelHNL3bb-",
        "outputId": "eb196ebe-1c0c-4a31-aa04-2f20a7e7eaf3"
      },
      "execution_count": 52,
      "outputs": [
        {
          "output_type": "stream",
          "name": "stdout",
          "text": [
            "Epoch 1/10\n"
          ]
        },
        {
          "output_type": "stream",
          "name": "stderr",
          "text": [
            "/usr/local/lib/python3.10/dist-packages/keras/src/trainers/data_adapters/py_dataset_adapter.py:121: UserWarning: Your `PyDataset` class should call `super().__init__(**kwargs)` in its constructor. `**kwargs` can include `workers`, `use_multiprocessing`, `max_queue_size`. Do not pass these arguments to `fit()`, as they will be ignored.\n",
            "  self._warn_if_super_not_called()\n"
          ]
        },
        {
          "output_type": "stream",
          "name": "stdout",
          "text": [
            "\u001b[1m549/549\u001b[0m \u001b[32m━━━━━━━━━━━━━━━━━━━━\u001b[0m\u001b[37m\u001b[0m \u001b[1m175s\u001b[0m 316ms/step - accuracy: 0.0763 - loss: 3.2894 - val_accuracy: 0.1047 - val_loss: 3.1102\n",
            "Epoch 2/10\n",
            "\u001b[1m549/549\u001b[0m \u001b[32m━━━━━━━━━━━━━━━━━━━━\u001b[0m\u001b[37m\u001b[0m \u001b[1m173s\u001b[0m 314ms/step - accuracy: 0.1063 - loss: 3.1098 - val_accuracy: 0.1558 - val_loss: 2.9605\n",
            "Epoch 3/10\n",
            "\u001b[1m549/549\u001b[0m \u001b[32m━━━━━━━━━━━━━━━━━━━━\u001b[0m\u001b[37m\u001b[0m \u001b[1m201s\u001b[0m 313ms/step - accuracy: 0.1480 - loss: 2.9933 - val_accuracy: 0.2062 - val_loss: 2.8342\n",
            "Epoch 4/10\n",
            "\u001b[1m549/549\u001b[0m \u001b[32m━━━━━━━━━━━━━━━━━━━━\u001b[0m\u001b[37m\u001b[0m \u001b[1m174s\u001b[0m 315ms/step - accuracy: 0.1888 - loss: 2.8869 - val_accuracy: 0.2424 - val_loss: 2.7185\n",
            "Epoch 5/10\n",
            "\u001b[1m549/549\u001b[0m \u001b[32m━━━━━━━━━━━━━━━━━━━━\u001b[0m\u001b[37m\u001b[0m \u001b[1m173s\u001b[0m 314ms/step - accuracy: 0.2131 - loss: 2.7838 - val_accuracy: 0.2878 - val_loss: 2.5955\n",
            "Epoch 6/10\n",
            "\u001b[1m549/549\u001b[0m \u001b[32m━━━━━━━━━━━━━━━━━━━━\u001b[0m\u001b[37m\u001b[0m \u001b[1m201s\u001b[0m 313ms/step - accuracy: 0.2277 - loss: 2.7083 - val_accuracy: 0.2974 - val_loss: 2.5246\n",
            "Epoch 7/10\n",
            "\u001b[1m549/549\u001b[0m \u001b[32m━━━━━━━━━━━━━━━━━━━━\u001b[0m\u001b[37m\u001b[0m \u001b[1m204s\u001b[0m 316ms/step - accuracy: 0.2513 - loss: 2.6602 - val_accuracy: 0.3318 - val_loss: 2.4566\n",
            "Epoch 8/10\n",
            "\u001b[1m549/549\u001b[0m \u001b[32m━━━━━━━━━━━━━━━━━━━━\u001b[0m\u001b[37m\u001b[0m \u001b[1m172s\u001b[0m 312ms/step - accuracy: 0.2703 - loss: 2.6056 - val_accuracy: 0.3355 - val_loss: 2.4156\n",
            "Epoch 9/10\n",
            "\u001b[1m549/549\u001b[0m \u001b[32m━━━━━━━━━━━━━━━━━━━━\u001b[0m\u001b[37m\u001b[0m \u001b[1m174s\u001b[0m 315ms/step - accuracy: 0.2809 - loss: 2.5738 - val_accuracy: 0.3610 - val_loss: 2.3724\n",
            "Epoch 10/10\n",
            "\u001b[1m549/549\u001b[0m \u001b[32m━━━━━━━━━━━━━━━━━━━━\u001b[0m\u001b[37m\u001b[0m \u001b[1m202s\u001b[0m 315ms/step - accuracy: 0.2918 - loss: 2.5398 - val_accuracy: 0.3635 - val_loss: 2.3133\n"
          ]
        },
        {
          "output_type": "execute_result",
          "data": {
            "text/plain": [
              "<keras.src.callbacks.history.History at 0x7ca5b12e5f60>"
            ]
          },
          "metadata": {},
          "execution_count": 52
        }
      ]
    },
    {
      "cell_type": "code",
      "source": [
        "# Оценка модели и метрики\n",
        "y_pred = model.predict(test_generator)\n",
        "\n",
        "# Вывод отчета по метрикам классификации\n",
        "report = classification_report(y_true_classes, y_pred_classes, target_names=list(label_mapping.keys()))\n",
        "print(report)"
      ],
      "metadata": {
        "colab": {
          "base_uri": "https://localhost:8080/"
        },
        "id": "QOFQiq_mUdMa",
        "outputId": "eac550cf-ead0-4242-8272-9e42bd37a2bd"
      },
      "execution_count": 53,
      "outputs": [
        {
          "output_type": "stream",
          "name": "stdout",
          "text": [
            "\u001b[1m138/138\u001b[0m \u001b[32m━━━━━━━━━━━━━━━━━━━━\u001b[0m\u001b[37m\u001b[0m \u001b[1m21s\u001b[0m 148ms/step\n",
            "                          precision    recall  f1-score   support\n",
            "\n",
            "    groundskeeper_willie       0.00      0.00      0.00        24\n",
            "           martin_prince       0.00      0.00      0.00        14\n",
            "    professor_john_frink       0.00      0.00      0.00        13\n",
            "            troy_mcclure       0.00      0.00      0.00         2\n",
            "               otto_mann       0.00      0.17      0.01         6\n",
            "           marge_simpson       0.09      0.04      0.05       268\n",
            "          maggie_simpson       0.00      0.00      0.00        26\n",
            "       principal_skinner       0.00      0.00      0.00       249\n",
            "           patty_bouvier       0.00      0.00      0.00        14\n",
            "  apu_nahasapeemapetilon       0.06      0.07      0.06       135\n",
            "             miss_hoover       0.00      0.00      0.00         3\n",
            "            nelson_muntz       0.00      0.00      0.00        82\n",
            "            chief_wiggum       0.00      0.00      0.00       207\n",
            "charles_montgomery_burns       0.00      0.00      0.00       248\n",
            "            carl_carlson       0.00      0.20      0.01        20\n",
            "         cletus_spuckler       0.00      0.00      0.00         9\n",
            "             lionel_hutz       0.00      0.00      0.00         1\n",
            "            lisa_simpson       0.06      0.06      0.06       281\n",
            "             moe_szyslak       0.00      0.00      0.00       301\n",
            "                     gil       0.00      0.00      0.00         5\n",
            "          edna_krabappel       0.00      0.00      0.00       101\n",
            "           homer_simpson       0.00      0.00      0.00       459\n",
            "            ralph_wiggum       0.00      0.00      0.00        18\n",
            "      rainier_wolfcastle       0.00      0.00      0.00         9\n",
            "            bart_simpson       0.10      0.05      0.07       278\n",
            "                fat_tony       0.00      0.00      0.00         5\n",
            "            ned_flanders       0.00      0.00      0.00       301\n",
            "         waylon_smithers       0.01      0.03      0.01        36\n",
            "           lenny_leonard       0.02      0.03      0.02        72\n",
            "               disco_stu       0.00      0.00      0.00         2\n",
            "     milhouse_van_houten       0.09      0.04      0.05       226\n",
            "        krusty_the_clown       0.00      0.00      0.00       251\n",
            "          snake_jailbird       0.00      0.00      0.00        11\n",
            "            sideshow_bob       0.00      0.00      0.00       185\n",
            "  abraham_grampa_simpson       0.00      0.00      0.00       192\n",
            "           selma_bouvier       0.00      0.00      0.00        21\n",
            "           kent_brockman       0.00      0.00      0.00       110\n",
            "           agnes_skinner       0.00      0.00      0.00         8\n",
            "           barney_gumble       0.00      0.00      0.00        21\n",
            "            mayor_quimby       0.02      0.07      0.03        59\n",
            "          comic_book_guy       0.00      0.00      0.00       104\n",
            "            sideshow_mel       0.00      0.00      0.00         8\n",
            "\n",
            "                accuracy                           0.02      4385\n",
            "               macro avg       0.01      0.02      0.01      4385\n",
            "            weighted avg       0.02      0.02      0.02      4385\n",
            "\n"
          ]
        },
        {
          "output_type": "stream",
          "name": "stderr",
          "text": [
            "/usr/local/lib/python3.10/dist-packages/sklearn/metrics/_classification.py:1531: UndefinedMetricWarning: Precision is ill-defined and being set to 0.0 in labels with no predicted samples. Use `zero_division` parameter to control this behavior.\n",
            "  _warn_prf(average, modifier, f\"{metric.capitalize()} is\", len(result))\n",
            "/usr/local/lib/python3.10/dist-packages/sklearn/metrics/_classification.py:1531: UndefinedMetricWarning: Precision is ill-defined and being set to 0.0 in labels with no predicted samples. Use `zero_division` parameter to control this behavior.\n",
            "  _warn_prf(average, modifier, f\"{metric.capitalize()} is\", len(result))\n",
            "/usr/local/lib/python3.10/dist-packages/sklearn/metrics/_classification.py:1531: UndefinedMetricWarning: Precision is ill-defined and being set to 0.0 in labels with no predicted samples. Use `zero_division` parameter to control this behavior.\n",
            "  _warn_prf(average, modifier, f\"{metric.capitalize()} is\", len(result))\n"
          ]
        }
      ]
    },
    {
      "cell_type": "markdown",
      "source": [
        "Precision — показывает, насколько точно модель предсказывает положительные классы. Если модель классифицирует кадры с Гомером Симпсоном, и она предсказывает 10 кадров как \"Гомер\", но только 8 из них действительно являются Гомером, то precision будет равен 80%.\n",
        "\n",
        "\n",
        "Recall — это метрика, которая показывает, насколько хорошо модель находит все истинные положительные примеры. Если в наборе данных есть 15 кадров с Гомером, а модель правильно классифицировала только 8 из них, то recall будет равен 53% (8 истинных положительных из 15 фактических положительных).\n",
        "\n",
        "\n",
        "F1-score — это гармоническое среднее между precision и recall. Он позволяет объединить обе метрики в одну и дает более полное представление о производительности модели. Использование F1-score полезно в ситуациях с несбалансированными классами, когда важно учитывать как точность, так и полноту.\n",
        "\n",
        "Support — это просто количество истинных экземпляров для каждого класса в тестовом наборе данных. Показывает, сколько тестовых примеров есть в каждом классе и помогает понять распределение классов в данных.\n",
        "\n",
        "Лосс (или функция потерь) — это мера, которая показывает, насколько хорошо или плохо модель предсказывает результаты по сравнению с фактическими значениями. Она используется для оценки качества модели во время обучения и оптимизации. Лосс помогает алгоритму понять, насколько далеко его предсказания от истинных значений, и на основании этого корректировать свои параметры. Используется в процессе обучения, тогда как метрики — оценивают его итог."
      ],
      "metadata": {
        "id": "NHLDzx5BSQm_"
      }
    },
    {
      "cell_type": "code",
      "source": [
        "# Построение графика loss\n",
        "plt.figure(figsize=(10, 6))\n",
        "plt.plot(history.history['loss'], label='Training Loss')\n",
        "plt.plot(history.history['val_loss'], label='Validation Loss')\n",
        "plt.xlabel('Epochs')\n",
        "plt.ylabel('Loss')\n",
        "plt.title('Training and Validation Loss')\n",
        "plt.legend()\n",
        "plt.show()\n",
        "y_pred_classes = np.argmax(y_pred, axis=1)\n",
        "y_true_classes = np.argmax(y_test, axis=1)"
      ],
      "metadata": {
        "colab": {
          "base_uri": "https://localhost:8080/",
          "height": 233
        },
        "id": "3N98bGW_PPAV",
        "outputId": "4c9d2585-706d-4aa2-cce0-833caaac9dfd"
      },
      "execution_count": 37,
      "outputs": [
        {
          "output_type": "error",
          "ename": "NameError",
          "evalue": "name 'history' is not defined",
          "traceback": [
            "\u001b[0;31m---------------------------------------------------------------------------\u001b[0m",
            "\u001b[0;31mNameError\u001b[0m                                 Traceback (most recent call last)",
            "\u001b[0;32m<ipython-input-37-4b7ec0186acc>\u001b[0m in \u001b[0;36m<cell line: 3>\u001b[0;34m()\u001b[0m\n\u001b[1;32m      1\u001b[0m \u001b[0;31m# Построение графика loss\u001b[0m\u001b[0;34m\u001b[0m\u001b[0;34m\u001b[0m\u001b[0m\n\u001b[1;32m      2\u001b[0m \u001b[0mplt\u001b[0m\u001b[0;34m.\u001b[0m\u001b[0mfigure\u001b[0m\u001b[0;34m(\u001b[0m\u001b[0mfigsize\u001b[0m\u001b[0;34m=\u001b[0m\u001b[0;34m(\u001b[0m\u001b[0;36m10\u001b[0m\u001b[0;34m,\u001b[0m \u001b[0;36m6\u001b[0m\u001b[0;34m)\u001b[0m\u001b[0;34m)\u001b[0m\u001b[0;34m\u001b[0m\u001b[0;34m\u001b[0m\u001b[0m\n\u001b[0;32m----> 3\u001b[0;31m \u001b[0mplt\u001b[0m\u001b[0;34m.\u001b[0m\u001b[0mplot\u001b[0m\u001b[0;34m(\u001b[0m\u001b[0mhistory\u001b[0m\u001b[0;34m.\u001b[0m\u001b[0mhistory\u001b[0m\u001b[0;34m[\u001b[0m\u001b[0;34m'loss'\u001b[0m\u001b[0;34m]\u001b[0m\u001b[0;34m,\u001b[0m \u001b[0mlabel\u001b[0m\u001b[0;34m=\u001b[0m\u001b[0;34m'Training Loss'\u001b[0m\u001b[0;34m)\u001b[0m\u001b[0;34m\u001b[0m\u001b[0;34m\u001b[0m\u001b[0m\n\u001b[0m\u001b[1;32m      4\u001b[0m \u001b[0mplt\u001b[0m\u001b[0;34m.\u001b[0m\u001b[0mplot\u001b[0m\u001b[0;34m(\u001b[0m\u001b[0mhistory\u001b[0m\u001b[0;34m.\u001b[0m\u001b[0mhistory\u001b[0m\u001b[0;34m[\u001b[0m\u001b[0;34m'val_loss'\u001b[0m\u001b[0;34m]\u001b[0m\u001b[0;34m,\u001b[0m \u001b[0mlabel\u001b[0m\u001b[0;34m=\u001b[0m\u001b[0;34m'Validation Loss'\u001b[0m\u001b[0;34m)\u001b[0m\u001b[0;34m\u001b[0m\u001b[0;34m\u001b[0m\u001b[0m\n\u001b[1;32m      5\u001b[0m \u001b[0mplt\u001b[0m\u001b[0;34m.\u001b[0m\u001b[0mxlabel\u001b[0m\u001b[0;34m(\u001b[0m\u001b[0;34m'Epochs'\u001b[0m\u001b[0;34m)\u001b[0m\u001b[0;34m\u001b[0m\u001b[0;34m\u001b[0m\u001b[0m\n",
            "\u001b[0;31mNameError\u001b[0m: name 'history' is not defined"
          ]
        },
        {
          "output_type": "display_data",
          "data": {
            "text/plain": [
              "<Figure size 1000x600 with 0 Axes>"
            ]
          },
          "metadata": {}
        }
      ]
    },
    {
      "cell_type": "code",
      "source": [
        "print(\"Test generator class indices:\", test_generator.class_indices)\n",
        "print(\"Label mapping:\", label_mapping)\n"
      ],
      "metadata": {
        "colab": {
          "base_uri": "https://localhost:8080/"
        },
        "id": "-2Lg7GYXRgG_",
        "outputId": "a409c707-8c7d-4bc5-d256-a9e1c395c5ee"
      },
      "execution_count": 39,
      "outputs": [
        {
          "output_type": "stream",
          "name": "stdout",
          "text": [
            "Test generator class indices: {'0': 0, '1': 1, '10': 2, '11': 3, '12': 4, '13': 5, '14': 6, '15': 7, '16': 8, '17': 9, '18': 10, '19': 11, '2': 12, '20': 13, '21': 14, '22': 15, '23': 16, '24': 17, '25': 18, '26': 19, '27': 20, '28': 21, '29': 22, '3': 23, '30': 24, '31': 25, '32': 26, '33': 27, '34': 28, '35': 29, '36': 30, '37': 31, '38': 32, '39': 33, '4': 34, '40': 35, '41': 36, '5': 37, '6': 38, '7': 39, '8': 40, '9': 41}\n",
            "Label mapping: {'groundskeeper_willie': 0, 'martin_prince': 1, 'professor_john_frink': 2, 'troy_mcclure': 3, 'otto_mann': 4, 'marge_simpson': 5, 'maggie_simpson': 6, 'principal_skinner': 7, 'patty_bouvier': 8, 'apu_nahasapeemapetilon': 9, 'miss_hoover': 10, 'nelson_muntz': 11, 'chief_wiggum': 12, 'charles_montgomery_burns': 13, 'carl_carlson': 14, 'cletus_spuckler': 15, 'lionel_hutz': 16, 'lisa_simpson': 17, 'moe_szyslak': 18, 'gil': 19, 'edna_krabappel': 20, 'homer_simpson': 21, 'ralph_wiggum': 22, 'rainier_wolfcastle': 23, 'bart_simpson': 24, 'fat_tony': 25, 'ned_flanders': 26, 'waylon_smithers': 27, 'lenny_leonard': 28, 'disco_stu': 29, 'milhouse_van_houten': 30, 'krusty_the_clown': 31, 'snake_jailbird': 32, 'sideshow_bob': 33, 'abraham_grampa_simpson': 34, 'selma_bouvier': 35, 'kent_brockman': 36, 'agnes_skinner': 37, 'barney_gumble': 38, 'mayor_quimby': 39, 'comic_book_guy': 40, 'sideshow_mel': 41}\n"
          ]
        }
      ]
    }
  ]
}